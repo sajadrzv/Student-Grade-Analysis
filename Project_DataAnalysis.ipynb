{
 "cells": [
  {
   "cell_type": "code",
   "execution_count": 164,
   "id": "cbc8c224",
   "metadata": {},
   "outputs": [],
   "source": [
    "import numpy as np\n",
    "import pandas as pd\n",
    "import matplotlib as mpl\n",
    "import matplotlib.pyplot as plt\n",
    "import seaborn as sns\n",
    "from scipy.stats import norm\n",
    "import scipy.stats as stats\n",
    "from scipy.stats import shapiro"
   ]
  },
  {
   "cell_type": "code",
   "execution_count": 28,
   "id": "32e9542f",
   "metadata": {},
   "outputs": [
    {
     "name": "stdout",
     "output_type": "stream",
     "text": [
      "<class 'pandas.core.frame.DataFrame'>\n",
      "RangeIndex: 180 entries, 0 to 179\n",
      "Data columns (total 4 columns):\n",
      " #   Column         Non-Null Count  Dtype \n",
      "---  ------         --------------  ----- \n",
      " 0   student_id     180 non-null    int64 \n",
      " 1   student_name   180 non-null    object\n",
      " 2   student_level  180 non-null    object\n",
      " 3   major          180 non-null    object\n",
      "dtypes: int64(1), object(3)\n",
      "memory usage: 5.8+ KB\n"
     ]
    }
   ],
   "source": [
    "students=pd.read_csv(\"/Users/sajjad/Downloads/Project 1/students.csv\")\n",
    "students.info()\n",
    "assignments=pd.read_csv(\"/Users/sajjad/Downloads/Project 1/assignments.csv\")\n",
    "grades=pd.read_csv(\"/Users/sajjad/Downloads/Project 1/grades.csv\")"
   ]
  },
  {
   "cell_type": "code",
   "execution_count": 16,
   "id": "335e71e9",
   "metadata": {},
   "outputs": [
    {
     "data": {
      "text/html": [
       "<div>\n",
       "<style scoped>\n",
       "    .dataframe tbody tr th:only-of-type {\n",
       "        vertical-align: middle;\n",
       "    }\n",
       "\n",
       "    .dataframe tbody tr th {\n",
       "        vertical-align: top;\n",
       "    }\n",
       "\n",
       "    .dataframe thead th {\n",
       "        text-align: right;\n",
       "    }\n",
       "</style>\n",
       "<table border=\"1\" class=\"dataframe\">\n",
       "  <thead>\n",
       "    <tr style=\"text-align: right;\">\n",
       "      <th></th>\n",
       "      <th>student_id</th>\n",
       "      <th>student_name</th>\n",
       "      <th>student_level</th>\n",
       "      <th>major</th>\n",
       "    </tr>\n",
       "  </thead>\n",
       "  <tbody>\n",
       "    <tr>\n",
       "      <th>0</th>\n",
       "      <td>288941</td>\n",
       "      <td>Matthew</td>\n",
       "      <td>1-Freshmen</td>\n",
       "      <td>English</td>\n",
       "    </tr>\n",
       "    <tr>\n",
       "      <th>1</th>\n",
       "      <td>463818</td>\n",
       "      <td>Austin</td>\n",
       "      <td>4-Senior</td>\n",
       "      <td>English</td>\n",
       "    </tr>\n",
       "    <tr>\n",
       "      <th>2</th>\n",
       "      <td>465208</td>\n",
       "      <td>Tyler</td>\n",
       "      <td>3-Junior</td>\n",
       "      <td>Engineering</td>\n",
       "    </tr>\n",
       "    <tr>\n",
       "      <th>3</th>\n",
       "      <td>383634</td>\n",
       "      <td>Samantha</td>\n",
       "      <td>3-Junior</td>\n",
       "      <td>Science</td>\n",
       "    </tr>\n",
       "    <tr>\n",
       "      <th>4</th>\n",
       "      <td>689448</td>\n",
       "      <td>Brittany</td>\n",
       "      <td>3-Junior</td>\n",
       "      <td>English</td>\n",
       "    </tr>\n",
       "  </tbody>\n",
       "</table>\n",
       "</div>"
      ],
      "text/plain": [
       "   student_id student_name student_level        major\n",
       "0      288941      Matthew    1-Freshmen      English\n",
       "1      463818       Austin      4-Senior      English\n",
       "2      465208        Tyler      3-Junior  Engineering\n",
       "3      383634     Samantha      3-Junior      Science\n",
       "4      689448     Brittany      3-Junior      English"
      ]
     },
     "execution_count": 16,
     "metadata": {},
     "output_type": "execute_result"
    }
   ],
   "source": [
    "students.head(5)"
   ]
  },
  {
   "cell_type": "code",
   "execution_count": 19,
   "id": "fba6e553",
   "metadata": {},
   "outputs": [
    {
     "data": {
      "text/plain": [
       "<bound method NDFrame.describe of      student_id student_name student_level                major\n",
       "0        288941      Matthew    1-Freshmen              English\n",
       "1        463818       Austin      4-Senior              English\n",
       "2        465208        Tyler      3-Junior          Engineering\n",
       "3        383634     Samantha      3-Junior              Science\n",
       "4        689448     Brittany      3-Junior              English\n",
       "..          ...          ...           ...                  ...\n",
       "175      657590     Jonathan   2-Sophomore          Engineering\n",
       "176      894088       Robert   2-Sophomore           Philosophy\n",
       "177      678017       Hannah   2-Sophomore  Statistics and Math\n",
       "178      778403       Andrew   2-Sophomore              Science\n",
       "179      861994       Alexis      3-Junior          Engineering\n",
       "\n",
       "[180 rows x 4 columns]>"
      ]
     },
     "execution_count": 19,
     "metadata": {},
     "output_type": "execute_result"
    }
   ],
   "source": [
    "students.describe"
   ]
  },
  {
   "cell_type": "code",
   "execution_count": 10,
   "id": "1fe0f0dd",
   "metadata": {},
   "outputs": [
    {
     "data": {
      "text/plain": [
       "student_id        int64\n",
       "student_name     object\n",
       "student_level    object\n",
       "major            object\n",
       "dtype: object"
      ]
     },
     "execution_count": 10,
     "metadata": {},
     "output_type": "execute_result"
    }
   ],
   "source": [
    "df.dtypes"
   ]
  },
  {
   "cell_type": "code",
   "execution_count": 21,
   "id": "4f9ab452",
   "metadata": {},
   "outputs": [
    {
     "data": {
      "text/html": [
       "<div>\n",
       "<style scoped>\n",
       "    .dataframe tbody tr th:only-of-type {\n",
       "        vertical-align: middle;\n",
       "    }\n",
       "\n",
       "    .dataframe tbody tr th {\n",
       "        vertical-align: top;\n",
       "    }\n",
       "\n",
       "    .dataframe thead th {\n",
       "        text-align: right;\n",
       "    }\n",
       "</style>\n",
       "<table border=\"1\" class=\"dataframe\">\n",
       "  <thead>\n",
       "    <tr style=\"text-align: right;\">\n",
       "      <th></th>\n",
       "      <th>assignment_id</th>\n",
       "      <th>assignment_category</th>\n",
       "      <th>assignment_value</th>\n",
       "    </tr>\n",
       "  </thead>\n",
       "  <tbody>\n",
       "    <tr>\n",
       "      <th>0</th>\n",
       "      <td>1</td>\n",
       "      <td>Homework</td>\n",
       "      <td>8</td>\n",
       "    </tr>\n",
       "    <tr>\n",
       "      <th>1</th>\n",
       "      <td>2</td>\n",
       "      <td>Homework</td>\n",
       "      <td>8</td>\n",
       "    </tr>\n",
       "    <tr>\n",
       "      <th>2</th>\n",
       "      <td>3</td>\n",
       "      <td>Homework</td>\n",
       "      <td>12</td>\n",
       "    </tr>\n",
       "    <tr>\n",
       "      <th>3</th>\n",
       "      <td>4</td>\n",
       "      <td>Quiz</td>\n",
       "      <td>22</td>\n",
       "    </tr>\n",
       "    <tr>\n",
       "      <th>4</th>\n",
       "      <td>5</td>\n",
       "      <td>Homework</td>\n",
       "      <td>8</td>\n",
       "    </tr>\n",
       "  </tbody>\n",
       "</table>\n",
       "</div>"
      ],
      "text/plain": [
       "   assignment_id assignment_category  assignment_value\n",
       "0              1            Homework                 8\n",
       "1              2            Homework                 8\n",
       "2              3            Homework                12\n",
       "3              4                Quiz                22\n",
       "4              5            Homework                 8"
      ]
     },
     "execution_count": 21,
     "metadata": {},
     "output_type": "execute_result"
    }
   ],
   "source": [
    "assignments.head()"
   ]
  },
  {
   "cell_type": "code",
   "execution_count": 27,
   "id": "f4810954",
   "metadata": {},
   "outputs": [
    {
     "name": "stdout",
     "output_type": "stream",
     "text": [
      "<class 'pandas.core.frame.DataFrame'>\n",
      "RangeIndex: 20 entries, 0 to 19\n",
      "Data columns (total 3 columns):\n",
      " #   Column               Non-Null Count  Dtype \n",
      "---  ------               --------------  ----- \n",
      " 0   assignment_id        20 non-null     int64 \n",
      " 1   assignment_category  20 non-null     object\n",
      " 2   assignment_value     20 non-null     int64 \n",
      "dtypes: int64(2), object(1)\n",
      "memory usage: 608.0+ bytes\n"
     ]
    }
   ],
   "source": [
    "assignments.info()"
   ]
  },
  {
   "cell_type": "code",
   "execution_count": 29,
   "id": "978cea3f",
   "metadata": {},
   "outputs": [
    {
     "name": "stdout",
     "output_type": "stream",
     "text": [
      "<class 'pandas.core.frame.DataFrame'>\n",
      "RangeIndex: 3600 entries, 0 to 3599\n",
      "Data columns (total 3 columns):\n",
      " #   Column         Non-Null Count  Dtype\n",
      "---  ------         --------------  -----\n",
      " 0   student_id     3600 non-null   int64\n",
      " 1   assignment_id  3600 non-null   int64\n",
      " 2   numeric_grade  3600 non-null   int64\n",
      "dtypes: int64(3)\n",
      "memory usage: 84.5 KB\n"
     ]
    }
   ],
   "source": [
    "grades.info()"
   ]
  },
  {
   "cell_type": "code",
   "execution_count": 30,
   "id": "87dba0d8",
   "metadata": {},
   "outputs": [
    {
     "data": {
      "text/html": [
       "<div>\n",
       "<style scoped>\n",
       "    .dataframe tbody tr th:only-of-type {\n",
       "        vertical-align: middle;\n",
       "    }\n",
       "\n",
       "    .dataframe tbody tr th {\n",
       "        vertical-align: top;\n",
       "    }\n",
       "\n",
       "    .dataframe thead th {\n",
       "        text-align: right;\n",
       "    }\n",
       "</style>\n",
       "<table border=\"1\" class=\"dataframe\">\n",
       "  <thead>\n",
       "    <tr style=\"text-align: right;\">\n",
       "      <th></th>\n",
       "      <th>student_id</th>\n",
       "      <th>assignment_id</th>\n",
       "      <th>numeric_grade</th>\n",
       "    </tr>\n",
       "  </thead>\n",
       "  <tbody>\n",
       "    <tr>\n",
       "      <th>0</th>\n",
       "      <td>288941</td>\n",
       "      <td>1</td>\n",
       "      <td>4</td>\n",
       "    </tr>\n",
       "    <tr>\n",
       "      <th>1</th>\n",
       "      <td>288941</td>\n",
       "      <td>2</td>\n",
       "      <td>7</td>\n",
       "    </tr>\n",
       "    <tr>\n",
       "      <th>2</th>\n",
       "      <td>288941</td>\n",
       "      <td>3</td>\n",
       "      <td>10</td>\n",
       "    </tr>\n",
       "    <tr>\n",
       "      <th>3</th>\n",
       "      <td>288941</td>\n",
       "      <td>4</td>\n",
       "      <td>16</td>\n",
       "    </tr>\n",
       "    <tr>\n",
       "      <th>4</th>\n",
       "      <td>288941</td>\n",
       "      <td>5</td>\n",
       "      <td>5</td>\n",
       "    </tr>\n",
       "  </tbody>\n",
       "</table>\n",
       "</div>"
      ],
      "text/plain": [
       "   student_id  assignment_id  numeric_grade\n",
       "0      288941              1              4\n",
       "1      288941              2              7\n",
       "2      288941              3             10\n",
       "3      288941              4             16\n",
       "4      288941              5              5"
      ]
     },
     "execution_count": 30,
     "metadata": {},
     "output_type": "execute_result"
    }
   ],
   "source": [
    "grades.head()"
   ]
  },
  {
   "cell_type": "code",
   "execution_count": 34,
   "id": "f7ff3bd1",
   "metadata": {},
   "outputs": [
    {
     "data": {
      "text/plain": [
       "0"
      ]
     },
     "execution_count": 34,
     "metadata": {},
     "output_type": "execute_result"
    }
   ],
   "source": [
    "students.duplicated().sum()"
   ]
  },
  {
   "cell_type": "code",
   "execution_count": 35,
   "id": "c088ae95",
   "metadata": {},
   "outputs": [
    {
     "data": {
      "text/plain": [
       "0"
      ]
     },
     "execution_count": 35,
     "metadata": {},
     "output_type": "execute_result"
    }
   ],
   "source": [
    "grades.duplicated().sum()"
   ]
  },
  {
   "cell_type": "code",
   "execution_count": 36,
   "id": "19dff08e",
   "metadata": {},
   "outputs": [
    {
     "data": {
      "text/plain": [
       "0"
      ]
     },
     "execution_count": 36,
     "metadata": {},
     "output_type": "execute_result"
    }
   ],
   "source": [
    "assignments.duplicated().sum()"
   ]
  },
  {
   "cell_type": "code",
   "execution_count": 46,
   "id": "c4d2be8b",
   "metadata": {},
   "outputs": [
    {
     "data": {
      "text/plain": [
       "Text(0.5, 1.0, 'Number of Students in Each Level')"
      ]
     },
     "execution_count": 46,
     "metadata": {},
     "output_type": "execute_result"
    },
    {
     "data": {
      "image/png": "[encoded data removed]",
      "text/plain": [
       "<Figure size 432x288 with 1 Axes>"
      ]
     },
     "metadata": {
      "needs_background": "light"
     },
     "output_type": "display_data"
    }
   ],
   "source": [
    "students.student_level.hist(color=\"green\")\n",
    "plt.title(\"Number of Students in Each Level\")"
   ]
  },
  {
   "cell_type": "code",
   "execution_count": 61,
   "id": "98725743",
   "metadata": {
    "scrolled": true
   },
   "outputs": [
    {
     "data": {
      "text/plain": [
       "Text(0.5, 1.0, 'Number of Students in Each Major')"
      ]
     },
     "execution_count": 61,
     "metadata": {},
     "output_type": "execute_result"
    },
    {
     "data": {
      "image/png": "[encoded data removed]",
      "text/plain": [
       "<Figure size 432x288 with 1 Axes>"
      ]
     },
     "metadata": {
      "needs_background": "light"
     },
     "output_type": "display_data"
    }
   ],
   "source": [
    "students.major.hist(color=\"green\",bins=12,xlabelsize=8)\n",
    "plt.title(\"Number of Students in Each Major\")"
   ]
  },
  {
   "cell_type": "code",
   "execution_count": null,
   "id": "33dd5400",
   "metadata": {},
   "outputs": [],
   "source": [
    "students.groupby(['student_level', 'major']).size().reset_index(name='count').sort_values(by=\"count\")"
   ]
  },
  {
   "cell_type": "code",
   "execution_count": 92,
   "id": "f6a89f14",
   "metadata": {},
   "outputs": [],
   "source": [
    "df=pd.merge(students,(pd.merge(grades,assignments,on=\"assignment_id\")),on=\"student_id\")"
   ]
  },
  {
   "cell_type": "code",
   "execution_count": 93,
   "id": "1e265281",
   "metadata": {},
   "outputs": [
    {
     "data": {
      "text/html": [
       "<div>\n",
       "<style scoped>\n",
       "    .dataframe tbody tr th:only-of-type {\n",
       "        vertical-align: middle;\n",
       "    }\n",
       "\n",
       "    .dataframe tbody tr th {\n",
       "        vertical-align: top;\n",
       "    }\n",
       "\n",
       "    .dataframe thead th {\n",
       "        text-align: right;\n",
       "    }\n",
       "</style>\n",
       "<table border=\"1\" class=\"dataframe\">\n",
       "  <thead>\n",
       "    <tr style=\"text-align: right;\">\n",
       "      <th></th>\n",
       "      <th>student_id</th>\n",
       "      <th>student_name</th>\n",
       "      <th>student_level</th>\n",
       "      <th>major</th>\n",
       "      <th>assignment_id</th>\n",
       "      <th>numeric_grade</th>\n",
       "      <th>assignment_category</th>\n",
       "      <th>assignment_value</th>\n",
       "    </tr>\n",
       "  </thead>\n",
       "  <tbody>\n",
       "    <tr>\n",
       "      <th>0</th>\n",
       "      <td>288941</td>\n",
       "      <td>Matthew</td>\n",
       "      <td>1-Freshmen</td>\n",
       "      <td>English</td>\n",
       "      <td>1</td>\n",
       "      <td>4</td>\n",
       "      <td>Homework</td>\n",
       "      <td>8</td>\n",
       "    </tr>\n",
       "    <tr>\n",
       "      <th>1</th>\n",
       "      <td>288941</td>\n",
       "      <td>Matthew</td>\n",
       "      <td>1-Freshmen</td>\n",
       "      <td>English</td>\n",
       "      <td>2</td>\n",
       "      <td>7</td>\n",
       "      <td>Homework</td>\n",
       "      <td>8</td>\n",
       "    </tr>\n",
       "    <tr>\n",
       "      <th>2</th>\n",
       "      <td>288941</td>\n",
       "      <td>Matthew</td>\n",
       "      <td>1-Freshmen</td>\n",
       "      <td>English</td>\n",
       "      <td>3</td>\n",
       "      <td>10</td>\n",
       "      <td>Homework</td>\n",
       "      <td>12</td>\n",
       "    </tr>\n",
       "    <tr>\n",
       "      <th>3</th>\n",
       "      <td>288941</td>\n",
       "      <td>Matthew</td>\n",
       "      <td>1-Freshmen</td>\n",
       "      <td>English</td>\n",
       "      <td>4</td>\n",
       "      <td>16</td>\n",
       "      <td>Quiz</td>\n",
       "      <td>22</td>\n",
       "    </tr>\n",
       "    <tr>\n",
       "      <th>4</th>\n",
       "      <td>288941</td>\n",
       "      <td>Matthew</td>\n",
       "      <td>1-Freshmen</td>\n",
       "      <td>English</td>\n",
       "      <td>5</td>\n",
       "      <td>5</td>\n",
       "      <td>Homework</td>\n",
       "      <td>8</td>\n",
       "    </tr>\n",
       "    <tr>\n",
       "      <th>...</th>\n",
       "      <td>...</td>\n",
       "      <td>...</td>\n",
       "      <td>...</td>\n",
       "      <td>...</td>\n",
       "      <td>...</td>\n",
       "      <td>...</td>\n",
       "      <td>...</td>\n",
       "      <td>...</td>\n",
       "    </tr>\n",
       "    <tr>\n",
       "      <th>3595</th>\n",
       "      <td>861994</td>\n",
       "      <td>Alexis</td>\n",
       "      <td>3-Junior</td>\n",
       "      <td>Engineering</td>\n",
       "      <td>16</td>\n",
       "      <td>6</td>\n",
       "      <td>Homework</td>\n",
       "      <td>8</td>\n",
       "    </tr>\n",
       "    <tr>\n",
       "      <th>3596</th>\n",
       "      <td>861994</td>\n",
       "      <td>Alexis</td>\n",
       "      <td>3-Junior</td>\n",
       "      <td>Engineering</td>\n",
       "      <td>17</td>\n",
       "      <td>8</td>\n",
       "      <td>Homework</td>\n",
       "      <td>10</td>\n",
       "    </tr>\n",
       "    <tr>\n",
       "      <th>3597</th>\n",
       "      <td>861994</td>\n",
       "      <td>Alexis</td>\n",
       "      <td>3-Junior</td>\n",
       "      <td>Engineering</td>\n",
       "      <td>18</td>\n",
       "      <td>17</td>\n",
       "      <td>Quiz</td>\n",
       "      <td>20</td>\n",
       "    </tr>\n",
       "    <tr>\n",
       "      <th>3598</th>\n",
       "      <td>861994</td>\n",
       "      <td>Alexis</td>\n",
       "      <td>3-Junior</td>\n",
       "      <td>Engineering</td>\n",
       "      <td>19</td>\n",
       "      <td>8</td>\n",
       "      <td>Homework</td>\n",
       "      <td>12</td>\n",
       "    </tr>\n",
       "    <tr>\n",
       "      <th>3599</th>\n",
       "      <td>861994</td>\n",
       "      <td>Alexis</td>\n",
       "      <td>3-Junior</td>\n",
       "      <td>Engineering</td>\n",
       "      <td>20</td>\n",
       "      <td>92</td>\n",
       "      <td>Exam</td>\n",
       "      <td>100</td>\n",
       "    </tr>\n",
       "  </tbody>\n",
       "</table>\n",
       "<p>3600 rows × 8 columns</p>\n",
       "</div>"
      ],
      "text/plain": [
       "      student_id student_name student_level        major  assignment_id  \\\n",
       "0         288941      Matthew    1-Freshmen      English              1   \n",
       "1         288941      Matthew    1-Freshmen      English              2   \n",
       "2         288941      Matthew    1-Freshmen      English              3   \n",
       "3         288941      Matthew    1-Freshmen      English              4   \n",
       "4         288941      Matthew    1-Freshmen      English              5   \n",
       "...          ...          ...           ...          ...            ...   \n",
       "3595      861994       Alexis      3-Junior  Engineering             16   \n",
       "3596      861994       Alexis      3-Junior  Engineering             17   \n",
       "3597      861994       Alexis      3-Junior  Engineering             18   \n",
       "3598      861994       Alexis      3-Junior  Engineering             19   \n",
       "3599      861994       Alexis      3-Junior  Engineering             20   \n",
       "\n",
       "      numeric_grade assignment_category  assignment_value  \n",
       "0                 4            Homework                 8  \n",
       "1                 7            Homework                 8  \n",
       "2                10            Homework                12  \n",
       "3                16                Quiz                22  \n",
       "4                 5            Homework                 8  \n",
       "...             ...                 ...               ...  \n",
       "3595              6            Homework                 8  \n",
       "3596              8            Homework                10  \n",
       "3597             17                Quiz                20  \n",
       "3598              8            Homework                12  \n",
       "3599             92                Exam               100  \n",
       "\n",
       "[3600 rows x 8 columns]"
      ]
     },
     "execution_count": 93,
     "metadata": {},
     "output_type": "execute_result"
    }
   ],
   "source": [
    "df"
   ]
  },
  {
   "cell_type": "code",
   "execution_count": 99,
   "id": "46dfe5a6",
   "metadata": {},
   "outputs": [],
   "source": [
    "df[\"score_grade\"]=df.numeric_grade/df.assignment_value"
   ]
  },
  {
   "cell_type": "code",
   "execution_count": 100,
   "id": "9d7cf78c",
   "metadata": {},
   "outputs": [
    {
     "data": {
      "text/html": [
       "<div>\n",
       "<style scoped>\n",
       "    .dataframe tbody tr th:only-of-type {\n",
       "        vertical-align: middle;\n",
       "    }\n",
       "\n",
       "    .dataframe tbody tr th {\n",
       "        vertical-align: top;\n",
       "    }\n",
       "\n",
       "    .dataframe thead th {\n",
       "        text-align: right;\n",
       "    }\n",
       "</style>\n",
       "<table border=\"1\" class=\"dataframe\">\n",
       "  <thead>\n",
       "    <tr style=\"text-align: right;\">\n",
       "      <th></th>\n",
       "      <th>student_id</th>\n",
       "      <th>student_name</th>\n",
       "      <th>student_level</th>\n",
       "      <th>major</th>\n",
       "      <th>assignment_id</th>\n",
       "      <th>numeric_grade</th>\n",
       "      <th>assignment_category</th>\n",
       "      <th>assignment_value</th>\n",
       "      <th>score_grade</th>\n",
       "    </tr>\n",
       "  </thead>\n",
       "  <tbody>\n",
       "    <tr>\n",
       "      <th>0</th>\n",
       "      <td>288941</td>\n",
       "      <td>Matthew</td>\n",
       "      <td>1-Freshmen</td>\n",
       "      <td>English</td>\n",
       "      <td>1</td>\n",
       "      <td>4</td>\n",
       "      <td>Homework</td>\n",
       "      <td>8</td>\n",
       "      <td>0.500000</td>\n",
       "    </tr>\n",
       "    <tr>\n",
       "      <th>1</th>\n",
       "      <td>288941</td>\n",
       "      <td>Matthew</td>\n",
       "      <td>1-Freshmen</td>\n",
       "      <td>English</td>\n",
       "      <td>2</td>\n",
       "      <td>7</td>\n",
       "      <td>Homework</td>\n",
       "      <td>8</td>\n",
       "      <td>0.875000</td>\n",
       "    </tr>\n",
       "    <tr>\n",
       "      <th>2</th>\n",
       "      <td>288941</td>\n",
       "      <td>Matthew</td>\n",
       "      <td>1-Freshmen</td>\n",
       "      <td>English</td>\n",
       "      <td>3</td>\n",
       "      <td>10</td>\n",
       "      <td>Homework</td>\n",
       "      <td>12</td>\n",
       "      <td>0.833333</td>\n",
       "    </tr>\n",
       "    <tr>\n",
       "      <th>3</th>\n",
       "      <td>288941</td>\n",
       "      <td>Matthew</td>\n",
       "      <td>1-Freshmen</td>\n",
       "      <td>English</td>\n",
       "      <td>4</td>\n",
       "      <td>16</td>\n",
       "      <td>Quiz</td>\n",
       "      <td>22</td>\n",
       "      <td>0.727273</td>\n",
       "    </tr>\n",
       "    <tr>\n",
       "      <th>4</th>\n",
       "      <td>288941</td>\n",
       "      <td>Matthew</td>\n",
       "      <td>1-Freshmen</td>\n",
       "      <td>English</td>\n",
       "      <td>5</td>\n",
       "      <td>5</td>\n",
       "      <td>Homework</td>\n",
       "      <td>8</td>\n",
       "      <td>0.625000</td>\n",
       "    </tr>\n",
       "    <tr>\n",
       "      <th>...</th>\n",
       "      <td>...</td>\n",
       "      <td>...</td>\n",
       "      <td>...</td>\n",
       "      <td>...</td>\n",
       "      <td>...</td>\n",
       "      <td>...</td>\n",
       "      <td>...</td>\n",
       "      <td>...</td>\n",
       "      <td>...</td>\n",
       "    </tr>\n",
       "    <tr>\n",
       "      <th>3595</th>\n",
       "      <td>861994</td>\n",
       "      <td>Alexis</td>\n",
       "      <td>3-Junior</td>\n",
       "      <td>Engineering</td>\n",
       "      <td>16</td>\n",
       "      <td>6</td>\n",
       "      <td>Homework</td>\n",
       "      <td>8</td>\n",
       "      <td>0.750000</td>\n",
       "    </tr>\n",
       "    <tr>\n",
       "      <th>3596</th>\n",
       "      <td>861994</td>\n",
       "      <td>Alexis</td>\n",
       "      <td>3-Junior</td>\n",
       "      <td>Engineering</td>\n",
       "      <td>17</td>\n",
       "      <td>8</td>\n",
       "      <td>Homework</td>\n",
       "      <td>10</td>\n",
       "      <td>0.800000</td>\n",
       "    </tr>\n",
       "    <tr>\n",
       "      <th>3597</th>\n",
       "      <td>861994</td>\n",
       "      <td>Alexis</td>\n",
       "      <td>3-Junior</td>\n",
       "      <td>Engineering</td>\n",
       "      <td>18</td>\n",
       "      <td>17</td>\n",
       "      <td>Quiz</td>\n",
       "      <td>20</td>\n",
       "      <td>0.850000</td>\n",
       "    </tr>\n",
       "    <tr>\n",
       "      <th>3598</th>\n",
       "      <td>861994</td>\n",
       "      <td>Alexis</td>\n",
       "      <td>3-Junior</td>\n",
       "      <td>Engineering</td>\n",
       "      <td>19</td>\n",
       "      <td>8</td>\n",
       "      <td>Homework</td>\n",
       "      <td>12</td>\n",
       "      <td>0.666667</td>\n",
       "    </tr>\n",
       "    <tr>\n",
       "      <th>3599</th>\n",
       "      <td>861994</td>\n",
       "      <td>Alexis</td>\n",
       "      <td>3-Junior</td>\n",
       "      <td>Engineering</td>\n",
       "      <td>20</td>\n",
       "      <td>92</td>\n",
       "      <td>Exam</td>\n",
       "      <td>100</td>\n",
       "      <td>0.920000</td>\n",
       "    </tr>\n",
       "  </tbody>\n",
       "</table>\n",
       "<p>3600 rows × 9 columns</p>\n",
       "</div>"
      ],
      "text/plain": [
       "      student_id student_name student_level        major  assignment_id  \\\n",
       "0         288941      Matthew    1-Freshmen      English              1   \n",
       "1         288941      Matthew    1-Freshmen      English              2   \n",
       "2         288941      Matthew    1-Freshmen      English              3   \n",
       "3         288941      Matthew    1-Freshmen      English              4   \n",
       "4         288941      Matthew    1-Freshmen      English              5   \n",
       "...          ...          ...           ...          ...            ...   \n",
       "3595      861994       Alexis      3-Junior  Engineering             16   \n",
       "3596      861994       Alexis      3-Junior  Engineering             17   \n",
       "3597      861994       Alexis      3-Junior  Engineering             18   \n",
       "3598      861994       Alexis      3-Junior  Engineering             19   \n",
       "3599      861994       Alexis      3-Junior  Engineering             20   \n",
       "\n",
       "      numeric_grade assignment_category  assignment_value  score_grade  \n",
       "0                 4            Homework                 8     0.500000  \n",
       "1                 7            Homework                 8     0.875000  \n",
       "2                10            Homework                12     0.833333  \n",
       "3                16                Quiz                22     0.727273  \n",
       "4                 5            Homework                 8     0.625000  \n",
       "...             ...                 ...               ...          ...  \n",
       "3595              6            Homework                 8     0.750000  \n",
       "3596              8            Homework                10     0.800000  \n",
       "3597             17                Quiz                20     0.850000  \n",
       "3598              8            Homework                12     0.666667  \n",
       "3599             92                Exam               100     0.920000  \n",
       "\n",
       "[3600 rows x 9 columns]"
      ]
     },
     "execution_count": 100,
     "metadata": {},
     "output_type": "execute_result"
    }
   ],
   "source": [
    "df"
   ]
  },
  {
   "cell_type": "code",
   "execution_count": 118,
   "id": "0822dbb2",
   "metadata": {},
   "outputs": [],
   "source": [
    "df2=df.groupby(\"student_level\")[\"score_grade\"].mean()"
   ]
  },
  {
   "cell_type": "code",
   "execution_count": 119,
   "id": "44c74257",
   "metadata": {},
   "outputs": [
    {
     "data": {
      "text/plain": [
       "student_level\n",
       "1-Freshmen     0.710932\n",
       "2-Sophomore    0.763995\n",
       "3-Junior       0.771563\n",
       "4-Senior       0.824910\n",
       "Name: score_grade, dtype: float64"
      ]
     },
     "execution_count": 119,
     "metadata": {},
     "output_type": "execute_result"
    }
   ],
   "source": [
    "df2"
   ]
  },
  {
   "cell_type": "code",
   "execution_count": 122,
   "id": "09401155",
   "metadata": {},
   "outputs": [],
   "source": [
    "df3=df2.reset_index()"
   ]
  },
  {
   "cell_type": "code",
   "execution_count": 123,
   "id": "4dc63629",
   "metadata": {},
   "outputs": [
    {
     "name": "stdout",
     "output_type": "stream",
     "text": [
      "<class 'pandas.core.frame.DataFrame'>\n",
      "RangeIndex: 4 entries, 0 to 3\n",
      "Data columns (total 2 columns):\n",
      " #   Column         Non-Null Count  Dtype  \n",
      "---  ------         --------------  -----  \n",
      " 0   student_level  4 non-null      object \n",
      " 1   score_grade    4 non-null      float64\n",
      "dtypes: float64(1), object(1)\n",
      "memory usage: 192.0+ bytes\n"
     ]
    }
   ],
   "source": [
    "df3.info()"
   ]
  },
  {
   "cell_type": "code",
   "execution_count": 125,
   "id": "c74aef4a",
   "metadata": {},
   "outputs": [
    {
     "data": {
      "text/html": [
       "<div>\n",
       "<style scoped>\n",
       "    .dataframe tbody tr th:only-of-type {\n",
       "        vertical-align: middle;\n",
       "    }\n",
       "\n",
       "    .dataframe tbody tr th {\n",
       "        vertical-align: top;\n",
       "    }\n",
       "\n",
       "    .dataframe thead th {\n",
       "        text-align: right;\n",
       "    }\n",
       "</style>\n",
       "<table border=\"1\" class=\"dataframe\">\n",
       "  <thead>\n",
       "    <tr style=\"text-align: right;\">\n",
       "      <th></th>\n",
       "      <th>student_level</th>\n",
       "      <th>score_grade</th>\n",
       "    </tr>\n",
       "  </thead>\n",
       "  <tbody>\n",
       "    <tr>\n",
       "      <th>0</th>\n",
       "      <td>1-Freshmen</td>\n",
       "      <td>0.710932</td>\n",
       "    </tr>\n",
       "    <tr>\n",
       "      <th>1</th>\n",
       "      <td>2-Sophomore</td>\n",
       "      <td>0.763995</td>\n",
       "    </tr>\n",
       "    <tr>\n",
       "      <th>2</th>\n",
       "      <td>3-Junior</td>\n",
       "      <td>0.771563</td>\n",
       "    </tr>\n",
       "    <tr>\n",
       "      <th>3</th>\n",
       "      <td>4-Senior</td>\n",
       "      <td>0.824910</td>\n",
       "    </tr>\n",
       "  </tbody>\n",
       "</table>\n",
       "</div>"
      ],
      "text/plain": [
       "  student_level  score_grade\n",
       "0    1-Freshmen     0.710932\n",
       "1   2-Sophomore     0.763995\n",
       "2      3-Junior     0.771563\n",
       "3      4-Senior     0.824910"
      ]
     },
     "execution_count": 125,
     "metadata": {},
     "output_type": "execute_result"
    }
   ],
   "source": [
    "df3"
   ]
  },
  {
   "cell_type": "code",
   "execution_count": 166,
   "id": "3ad16e5f",
   "metadata": {},
   "outputs": [],
   "source": [
    "df4=df.groupby(\"major\")[\"score_grade\"].mean().reset_index()"
   ]
  },
  {
   "cell_type": "code",
   "execution_count": 167,
   "id": "a334e5c4",
   "metadata": {},
   "outputs": [
    {
     "data": {
      "text/html": [
       "<div>\n",
       "<style scoped>\n",
       "    .dataframe tbody tr th:only-of-type {\n",
       "        vertical-align: middle;\n",
       "    }\n",
       "\n",
       "    .dataframe tbody tr th {\n",
       "        vertical-align: top;\n",
       "    }\n",
       "\n",
       "    .dataframe thead th {\n",
       "        text-align: right;\n",
       "    }\n",
       "</style>\n",
       "<table border=\"1\" class=\"dataframe\">\n",
       "  <thead>\n",
       "    <tr style=\"text-align: right;\">\n",
       "      <th></th>\n",
       "      <th>major</th>\n",
       "      <th>score_grade</th>\n",
       "    </tr>\n",
       "  </thead>\n",
       "  <tbody>\n",
       "    <tr>\n",
       "      <th>0</th>\n",
       "      <td>Business</td>\n",
       "      <td>0.739079</td>\n",
       "    </tr>\n",
       "    <tr>\n",
       "      <th>1</th>\n",
       "      <td>Engineering</td>\n",
       "      <td>0.702410</td>\n",
       "    </tr>\n",
       "    <tr>\n",
       "      <th>2</th>\n",
       "      <td>English</td>\n",
       "      <td>0.746820</td>\n",
       "    </tr>\n",
       "    <tr>\n",
       "      <th>3</th>\n",
       "      <td>Philosophy</td>\n",
       "      <td>0.788164</td>\n",
       "    </tr>\n",
       "    <tr>\n",
       "      <th>4</th>\n",
       "      <td>Science</td>\n",
       "      <td>0.780650</td>\n",
       "    </tr>\n",
       "    <tr>\n",
       "      <th>5</th>\n",
       "      <td>Statistics and Math</td>\n",
       "      <td>0.801483</td>\n",
       "    </tr>\n",
       "  </tbody>\n",
       "</table>\n",
       "</div>"
      ],
      "text/plain": [
       "                 major  score_grade\n",
       "0             Business     0.739079\n",
       "1          Engineering     0.702410\n",
       "2              English     0.746820\n",
       "3           Philosophy     0.788164\n",
       "4              Science     0.780650\n",
       "5  Statistics and Math     0.801483"
      ]
     },
     "execution_count": 167,
     "metadata": {},
     "output_type": "execute_result"
    }
   ],
   "source": [
    "df4"
   ]
  },
  {
   "cell_type": "code",
   "execution_count": 168,
   "id": "49b31023",
   "metadata": {},
   "outputs": [
    {
     "data": {
      "image/png": "[encoded data removed]",
      "text/plain": [
       "<Figure size 720x432 with 1 Axes>"
      ]
     },
     "metadata": {
      "needs_background": "light"
     },
     "output_type": "display_data"
    }
   ],
   "source": [
    "plt.figure(figsize=(10, 6))\n",
    "plt.bar(df4['major'], df4['score_grade'], color='skyblue', edgecolor='black')\n",
    "\n",
    "# Adding title and labels\n",
    "plt.title('Mean Score Grades by Student Major')\n",
    "plt.xlabel('Major')\n",
    "plt.ylabel('Mean Score Grade')\n",
    "\n",
    "\n",
    "plt.show()"
   ]
  },
  {
   "cell_type": "code",
   "execution_count": 138,
   "id": "84309f29",
   "metadata": {},
   "outputs": [
    {
     "data": {
      "image/png": "[encoded data removed]",
      "text/plain": [
       "<Figure size 720x432 with 1 Axes>"
      ]
     },
     "metadata": {
      "needs_background": "light"
     },
     "output_type": "display_data"
    }
   ],
   "source": [
    "plt.figure(figsize=(10, 6))\n",
    "plt.bar(df3['student_level'], df3['score_grade'], color='skyblue', edgecolor='black')\n",
    "\n",
    "# Adding title and labels\n",
    "plt.title('Mean Score Grades by Student Level')\n",
    "plt.xlabel('Student Level')\n",
    "plt.ylabel('Mean Score Grade')\n",
    "\n",
    "\n",
    "plt.show()"
   ]
  },
  {
   "cell_type": "code",
   "execution_count": 150,
   "id": "a1a423c1",
   "metadata": {},
   "outputs": [
    {
     "data": {
      "text/plain": [
       "<AxesSubplot:>"
      ]
     },
     "execution_count": 150,
     "metadata": {},
     "output_type": "execute_result"
    },
    {
     "data": {
      "image/png": "[encoded data removed]",
      "text/plain": [
       "<Figure size 432x288 with 1 Axes>"
      ]
     },
     "metadata": {
      "needs_background": "light"
     },
     "output_type": "display_data"
    }
   ],
   "source": [
    "df.score_grade.hist(bins=20)"
   ]
  },
  {
   "cell_type": "code",
   "execution_count": 145,
   "id": "31c6ab68",
   "metadata": {},
   "outputs": [
    {
     "data": {
      "text/plain": [
       "count    3600.000000\n",
       "mean        0.749740\n",
       "std         0.114752\n",
       "min         0.375000\n",
       "25%         0.666667\n",
       "50%         0.750000\n",
       "75%         0.833333\n",
       "max         1.000000\n",
       "Name: score_grade, dtype: float64"
      ]
     },
     "execution_count": 145,
     "metadata": {},
     "output_type": "execute_result"
    }
   ],
   "source": [
    "df.score_grade.describe()"
   ]
  },
  {
   "cell_type": "code",
   "execution_count": 155,
   "id": "f51ac57a",
   "metadata": {},
   "outputs": [
    {
     "data": {
      "text/plain": [
       "<matplotlib.legend.Legend at 0x7fc8d1a22e50>"
      ]
     },
     "execution_count": 155,
     "metadata": {},
     "output_type": "execute_result"
    },
    {
     "data": {
      "image/png": "[encoded data removed]",
      "text/plain": [
       "<Figure size 720x432 with 1 Axes>"
      ]
     },
     "metadata": {
      "needs_background": "light"
     },
     "output_type": "display_data"
    }
   ],
   "source": [
    "# Plotting the histogram\n",
    "plt.figure(figsize=(10, 6))\n",
    "sns.histplot(df.score_grade, bins=30, kde=False, stat='density', color='skyblue', edgecolor='black')\n",
    "\n",
    "# Plotting the normal distribution curve\n",
    "mean = np.mean(df.score_grade)\n",
    "std = np.std(df.score_grade)\n",
    "x = np.linspace(min(df.score_grade), max(df.score_grade), 100)\n",
    "plt.plot(x, norm.pdf(x, mean, std), color='red', lw=2, label='Normal Distribution')\n",
    "\n",
    "# Adding title and labels\n",
    "plt.title('Score Grade Histogram with Normal Distribution Overlay')\n",
    "plt.xlabel('score_grade')\n",
    "plt.ylabel('Density')\n",
    "\n",
    "# Show the legend\n",
    "plt.legend()"
   ]
  },
  {
   "cell_type": "code",
   "execution_count": 163,
   "id": "f13dc378",
   "metadata": {},
   "outputs": [
    {
     "data": {
      "image/png": "[encoded data removed]",
      "text/plain": [
       "<Figure size 576x576 with 1 Axes>"
      ]
     },
     "metadata": {
      "needs_background": "light"
     },
     "output_type": "display_data"
    }
   ],
   "source": [
    "# Creating the Q-Q plot\n",
    "plt.figure(figsize=(8, 8))\n",
    "stats.probplot(df.score_grade, dist=\"norm\", plot=plt)\n",
    "\n",
    "# Adding title\n",
    "plt.title('Q-Q Plot')\n",
    "\n",
    "# Show the plot\n",
    "plt.show()"
   ]
  },
  {
   "cell_type": "code",
   "execution_count": 170,
   "id": "818905bd",
   "metadata": {},
   "outputs": [
    {
     "name": "stdout",
     "output_type": "stream",
     "text": [
      "Shapiro-Wilk Test Statistic: 0.9996765851974487\n",
      "p-value: 0.8657425045967102\n"
     ]
    }
   ],
   "source": [
    "# Conduct the Shapiro-Wilk test\n",
    "statistic, p_value = shapiro(data)\n",
    "\n",
    "# Output the results\n",
    "print('Shapiro-Wilk Test Statistic:', statistic)\n",
    "print('p-value:', p_value)"
   ]
  },
  {
   "cell_type": "code",
   "execution_count": 148,
   "id": "885d0e37",
   "metadata": {},
   "outputs": [
    {
     "data": {
      "image/png": "[encoded data removed]",
      "text/plain": [
       "<Figure size 576x432 with 1 Axes>"
      ]
     },
     "metadata": {
      "needs_background": "light"
     },
     "output_type": "display_data"
    }
   ],
   "source": [
    "plt.figure(figsize=(8, 6))\n",
    "sns.boxplot(data=df.score_grade, color='lightgreen')\n",
    "\n",
    "# Adding title\n",
    "plt.title('Box Plot of the Score Grade')\n",
    "\n",
    "# Show the plot\n",
    "plt.show()"
   ]
  },
  {
   "cell_type": "code",
   "execution_count": 171,
   "id": "8cc13d0d",
   "metadata": {},
   "outputs": [],
   "source": [
    "# outliers\n",
    "# Example: Calculate Z-scores for the grades\n",
    "z_scores = np.abs(stats.zscore(df.score_grade))\n",
    "\n",
    "# Identify outliers (Z-score > 3)\n",
    "outliers = df[z_scores > 3]"
   ]
  },
  {
   "cell_type": "code",
   "execution_count": 172,
   "id": "895ac50e",
   "metadata": {},
   "outputs": [
    {
     "data": {
      "text/html": [
       "<div>\n",
       "<style scoped>\n",
       "    .dataframe tbody tr th:only-of-type {\n",
       "        vertical-align: middle;\n",
       "    }\n",
       "\n",
       "    .dataframe tbody tr th {\n",
       "        vertical-align: top;\n",
       "    }\n",
       "\n",
       "    .dataframe thead th {\n",
       "        text-align: right;\n",
       "    }\n",
       "</style>\n",
       "<table border=\"1\" class=\"dataframe\">\n",
       "  <thead>\n",
       "    <tr style=\"text-align: right;\">\n",
       "      <th></th>\n",
       "      <th>student_id</th>\n",
       "      <th>student_name</th>\n",
       "      <th>student_level</th>\n",
       "      <th>major</th>\n",
       "      <th>assignment_id</th>\n",
       "      <th>numeric_grade</th>\n",
       "      <th>assignment_category</th>\n",
       "      <th>assignment_value</th>\n",
       "      <th>score_grade</th>\n",
       "    </tr>\n",
       "  </thead>\n",
       "  <tbody>\n",
       "    <tr>\n",
       "      <th>152</th>\n",
       "      <td>514068</td>\n",
       "      <td>Nicholas</td>\n",
       "      <td>1-Freshmen</td>\n",
       "      <td>Business</td>\n",
       "      <td>13</td>\n",
       "      <td>3</td>\n",
       "      <td>Homework</td>\n",
       "      <td>8</td>\n",
       "      <td>0.375</td>\n",
       "    </tr>\n",
       "    <tr>\n",
       "      <th>348</th>\n",
       "      <td>188048</td>\n",
       "      <td>Nicole</td>\n",
       "      <td>1-Freshmen</td>\n",
       "      <td>Engineering</td>\n",
       "      <td>9</td>\n",
       "      <td>4</td>\n",
       "      <td>Homework</td>\n",
       "      <td>10</td>\n",
       "      <td>0.400</td>\n",
       "    </tr>\n",
       "    <tr>\n",
       "      <th>1544</th>\n",
       "      <td>996584</td>\n",
       "      <td>Eric</td>\n",
       "      <td>3-Junior</td>\n",
       "      <td>Engineering</td>\n",
       "      <td>5</td>\n",
       "      <td>3</td>\n",
       "      <td>Homework</td>\n",
       "      <td>8</td>\n",
       "      <td>0.375</td>\n",
       "    </tr>\n",
       "    <tr>\n",
       "      <th>1976</th>\n",
       "      <td>709559</td>\n",
       "      <td>Stephanie</td>\n",
       "      <td>1-Freshmen</td>\n",
       "      <td>Engineering</td>\n",
       "      <td>17</td>\n",
       "      <td>4</td>\n",
       "      <td>Homework</td>\n",
       "      <td>10</td>\n",
       "      <td>0.400</td>\n",
       "    </tr>\n",
       "    <tr>\n",
       "      <th>3100</th>\n",
       "      <td>969187</td>\n",
       "      <td>Tyler</td>\n",
       "      <td>1-Freshmen</td>\n",
       "      <td>Engineering</td>\n",
       "      <td>1</td>\n",
       "      <td>3</td>\n",
       "      <td>Homework</td>\n",
       "      <td>8</td>\n",
       "      <td>0.375</td>\n",
       "    </tr>\n",
       "  </tbody>\n",
       "</table>\n",
       "</div>"
      ],
      "text/plain": [
       "      student_id student_name student_level        major  assignment_id  \\\n",
       "152       514068     Nicholas    1-Freshmen     Business             13   \n",
       "348       188048       Nicole    1-Freshmen  Engineering              9   \n",
       "1544      996584         Eric      3-Junior  Engineering              5   \n",
       "1976      709559    Stephanie    1-Freshmen  Engineering             17   \n",
       "3100      969187        Tyler    1-Freshmen  Engineering              1   \n",
       "\n",
       "      numeric_grade assignment_category  assignment_value  score_grade  \n",
       "152               3            Homework                 8        0.375  \n",
       "348               4            Homework                10        0.400  \n",
       "1544              3            Homework                 8        0.375  \n",
       "1976              4            Homework                10        0.400  \n",
       "3100              3            Homework                 8        0.375  "
      ]
     },
     "execution_count": 172,
     "metadata": {},
     "output_type": "execute_result"
    }
   ],
   "source": [
    "outliers"
   ]
  }
 ],
 "metadata": {
  "kernelspec": {
   "display_name": "Python 3",
   "language": "python",
   "name": "python3"
  },
  "language_info": {
   "codemirror_mode": {
    "name": "ipython",
    "version": 3
   },
   "file_extension": ".py",
   "mimetype": "text/x-python",
   "name": "python",
   "nbconvert_exporter": "python",
   "pygments_lexer": "ipython3",
   "version": "3.8.8"
  }
 },
 "nbformat": 4,
 "nbformat_minor": 5
}
